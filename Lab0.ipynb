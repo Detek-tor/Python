{
 "cells": [
  {
   "cell_type": "markdown",
   "id": "a0bcc6f8-8812-4a7e-b60e-c82bf6e19a02",
   "metadata": {},
   "source": [
    "## Визначаємо номер варіанту"
   ]
  },
  {
   "cell_type": "code",
   "execution_count": 1,
   "id": "5fa67b2f-597b-43ba-bad7-3badb1e9012e",
   "metadata": {},
   "outputs": [
    {
     "data": {
      "text/plain": [
       "9"
      ]
     },
     "execution_count": 1,
     "metadata": {},
     "output_type": "execute_result"
    }
   ],
   "source": [
    "N = ord(\"D\") % 10 + 1\n",
    "N"
   ]
  },
  {
   "cell_type": "markdown",
   "id": "ee337e78-f948-43ec-8f54-327c68e6cece",
   "metadata": {},
   "source": [
    "# Чеська Республіка\n",
    "\n",
    "## Загальна інформація\n",
    "\n",
    "### Площа та населення\n",
    "\n",
    "- **Площа**: 78,871 квадратних кілометрів\n",
    "- **Населення**: 10,700,000 осіб (приблизно)\n",
    "\n",
    "### Державний устрій\n",
    "\n",
    "Чеська Республіка є парламентською республікою з двома палатами парламенту.\n",
    "\n",
    "## Видатні персоналії\n",
    "\n",
    "- **Вацлав Гавел** — перший президент Чеської Республіки після падіння комуністичного режиму.\n",
    "- **Ярослав Гашек** — автор знаменитого роману \"Добрий солдат Швейк\".\n",
    "\n",
    "## Пам'ятки культури та природи\n",
    "\n",
    "### Пам'ятки культури\n",
    "\n",
    "1. **Карловий університет** в Празі\n",
    "2. **Празький Град** — одна з найстаріших і найбільших замкових комплексів у світі\n",
    "\n",
    "### Пам'ятки природи\n",
    "\n",
    "- **Національний парк Шумава**\n",
    "- **Чеський Рай** — відомий своїми скелястими формаціями\n",
    "\n",
    "## Дата заснування країни\n",
    "\n",
    "<div style=\"border: 2px solid black; padding: 10px;\">\n",
    "  Чехи разом зі словаками 28 жовтня 1918 року створили Чехословацьку Республіку на чолі з президентом Томашем Масариком.\n",
    "</div>\n",
    "\n",
    "## Коротка інформація\n",
    "\n",
    "| Категорія          | Деталі                     |\n",
    "|--------------------|----------------------------|\n",
    "| **Офіційна мова**  | Чеська                     |\n",
    "| **Валюта**         | Чеська крона (CZK)          |\n",
    "| **Часовий пояс**   | CET (UTC+1)                 |\n",
    "\n",
    "## Список міст\n",
    "\n",
    "- **Столиця**: Прага\n",
    "  - Празький Град\n",
    "  - Старе місто\n",
    "\n",
    "## Прапор країни\n",
    "\n",
    "<img src=\"Flag_of_the_Czech_Republic.png\" width=\"300\">\n",
    "\n",
    "## Гіперпосилання\n",
    "\n",
    "Детальніше про Чеську Республіку можна прочитати на [Wikipedia](https://uk.wikipedia.org/wiki/Чеська_Республіка)."
   ]
  },
  {
   "cell_type": "markdown",
   "id": "56b05ae9-4195-443e-9654-54d154b57adb",
   "metadata": {},
   "source": [
    "## Прапор країни (SVG)"
   ]
  },
  {
   "cell_type": "code",
   "execution_count": 2,
   "id": "f7dc0a87-67a1-4fcf-ab71-d5a578f643ba",
   "metadata": {
    "jupyter": {
     "source_hidden": true
    }
   },
   "outputs": [
    {
     "data": {
      "text/html": [
       "<svg width=\"300\" height=\"150\" xmlns=\"http://www.w3.org/2000/svg\">\n",
       "  <rect width=\"300\" height=\"150\" fill=\"#ffffff\"/>\n",
       "  <rect width=\"300\" height=\"75\" y=\"75\" fill=\"#d52b1e\"/>\n",
       "  <polygon points=\"0,0 150,75 0,150\" fill=\"#0033a0\"/>\n",
       "</svg>\n"
      ],
      "text/plain": [
       "<IPython.core.display.HTML object>"
      ]
     },
     "metadata": {},
     "output_type": "display_data"
    }
   ],
   "source": [
    "%%HTML\n",
    "<svg width=\"300\" height=\"150\" xmlns=\"http://www.w3.org/2000/svg\">\n",
    "  <rect width=\"300\" height=\"150\" fill=\"#ffffff\"/>\n",
    "  <rect width=\"300\" height=\"75\" y=\"75\" fill=\"#d52b1e\"/>\n",
    "  <polygon points=\"0,0 150,75 0,150\" fill=\"#0033a0\"/>\n",
    "</svg>"
   ]
  },
  {
   "cell_type": "code",
   "execution_count": null,
   "id": "7ba9e5e4-08db-4c50-a915-b14af97651cb",
   "metadata": {},
   "outputs": [],
   "source": [
    "import math\n",
    "\n",
    "def is_prime(num):\n",
    "    if num <= 1:\n",
    "        return False\n",
    "    for i in range(2, int(math.sqrt(num)) + 1):\n",
    "        if num % i == 0:\n",
    "            return False\n",
    "    return True\n",
    "\n",
    "def sorting():\n",
    "    # Ввод 7 чисел в одну строку, разделенных пробелами\n",
    "    numbers = list(map(int, input(\"Введите 7 чисел через пробел: \").split()))\n",
    "    \n",
    "    # Проверка, что введено ровно 7 чисел\n",
    "    if len(numbers) != 7:\n",
    "        print(\"Необходимо ввести ровно 7 чисел.\")\n",
    "        return\n",
    "    \n",
    "    non_primes = []\n",
    "    \n",
    "    # Фильтрация не простых чисел\n",
    "    for num in numbers:\n",
    "        if not is_prime(num):\n",
    "            non_primes.append(num)\n",
    "\n",
    "    # Сортировка не простых чисел в порядке убывания и вывод результата\n",
    "    print(sorted(non_primes, reverse=True))"
   ]
  },
  {
   "cell_type": "code",
   "execution_count": null,
   "id": "1f261b8b-0118-4fbd-a7bd-ea2421814b2f",
   "metadata": {},
   "outputs": [],
   "source": [
    "sorting()"
   ]
  }
 ],
 "metadata": {
  "kernelspec": {
   "display_name": "Python 3 (ipykernel)",
   "language": "python",
   "name": "python3"
  },
  "language_info": {
   "codemirror_mode": {
    "name": "ipython",
    "version": 3
   },
   "file_extension": ".py",
   "mimetype": "text/x-python",
   "name": "python",
   "nbconvert_exporter": "python",
   "pygments_lexer": "ipython3",
   "version": "3.12.6"
  }
 },
 "nbformat": 4,
 "nbformat_minor": 5
}
